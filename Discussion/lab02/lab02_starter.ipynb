{
 "cells": [
  {
   "cell_type": "markdown",
   "id": "a64bc4fd",
   "metadata": {},
   "source": [
    "### Entities:\n",
    "\n",
    "\t1.\tBook: Each book has a title and an author.\n",
    "\t2.\tMember: Each member can borrow multiple books.\n",
    "\t3.\tBorrow: Tracks when a member borrows and returns a book (with borrow/return dates).\n",
    "\n",
    "\n"
   ]
  },
  {
   "cell_type": "markdown",
   "id": "e7fa24fb",
   "metadata": {},
   "source": [
    "### Define the Models\n",
    "\n",
    "\t1.\tDefine Book, Member, and Borrow.\n",
    "\t2.\tImplement foreign key relationships."
   ]
  },
  {
   "cell_type": "code",
   "execution_count": 1,
   "id": "8ae0cc50",
   "metadata": {},
   "outputs": [],
   "source": [
    "import pandas as pd\n",
    "from sqlalchemy import ...\n",
    "from sqlalchemy.orm import ...\n"
   ]
  },
  {
   "cell_type": "code",
   "execution_count": 2,
   "id": "e9197cb7",
   "metadata": {},
   "outputs": [],
   "source": [
    "Base = declarative_base()"
   ]
  },
  {
   "cell_type": "code",
   "execution_count": 3,
   "id": "ecc3939c",
   "metadata": {},
   "outputs": [],
   "source": [
    "class Book(Base):\n",
    "    \n",
    "    __tablename__ = \"books\"\n",
    "    \n",
    "    id = ...\n",
    "    title = ...\n",
    "    author = ..."
   ]
  },
  {
   "cell_type": "code",
   "execution_count": 4,
   "id": "80f919c5",
   "metadata": {},
   "outputs": [],
   "source": []
  },
  {
   "cell_type": "code",
   "execution_count": 5,
   "id": "f4df550e",
   "metadata": {},
   "outputs": [],
   "source": []
  },
  {
   "cell_type": "markdown",
   "id": "3e3943b7",
   "metadata": {},
   "source": [
    "### Insert Sample Data"
   ]
  },
  {
   "cell_type": "code",
   "execution_count": null,
   "id": "94b7bc11",
   "metadata": {},
   "outputs": [],
   "source": []
  },
  {
   "cell_type": "markdown",
   "id": "7f49338f",
   "metadata": {},
   "source": [
    "### Query Data"
   ]
  },
  {
   "cell_type": "code",
   "execution_count": null,
   "id": "22e9fd4d",
   "metadata": {},
   "outputs": [],
   "source": []
  },
  {
   "cell_type": "markdown",
   "id": "06731135",
   "metadata": {},
   "source": [
    "### Query all books borrowed by a specific member\n"
   ]
  },
  {
   "cell_type": "code",
   "execution_count": null,
   "id": "b4f98542",
   "metadata": {},
   "outputs": [],
   "source": []
  },
  {
   "cell_type": "markdown",
   "id": "fa4ce7df",
   "metadata": {},
   "source": [
    "### Return Books\n",
    "\n",
    "- Mark a borrowed book as returned by updating the `return_date`.\n",
    " "
   ]
  },
  {
   "cell_type": "code",
   "execution_count": null,
   "id": "7842fda0",
   "metadata": {},
   "outputs": [],
   "source": []
  },
  {
   "cell_type": "markdown",
   "id": "9919cd1a",
   "metadata": {},
   "source": [
    "### Find all currently available books in the library"
   ]
  },
  {
   "cell_type": "code",
   "execution_count": null,
   "id": "8c8ab951",
   "metadata": {},
   "outputs": [],
   "source": []
  }
 ],
 "metadata": {
  "kernelspec": {
   "display_name": "Python 3 (ipykernel)",
   "language": "python",
   "name": "python3"
  },
  "language_info": {
   "codemirror_mode": {
    "name": "ipython",
    "version": 3
   },
   "file_extension": ".py",
   "mimetype": "text/x-python",
   "name": "python",
   "nbconvert_exporter": "python",
   "pygments_lexer": "ipython3",
   "version": "3.11.5"
  }
 },
 "nbformat": 4,
 "nbformat_minor": 5
}
