{
 "cells": [
  {
   "cell_type": "markdown",
   "id": "a64bc4fd",
   "metadata": {},
   "source": [
    "### Entities:\n",
    "\n",
    "\t1.\tBook: Each book has a title and an author.\n",
    "\t2.\tMember: Each member can borrow multiple books.\n",
    "\t3.\tBorrow: Tracks when a member borrows and returns a book (with borrow/return dates).\n",
    "\n",
    "\n"
   ]
  },
  {
   "cell_type": "markdown",
   "id": "e7fa24fb",
   "metadata": {},
   "source": [
    "### Define the Models\n",
    "\n",
    "\t1.\tDefine Book, Member, and Borrow.\n",
    "\t2.\tImplement foreign key relationships."
   ]
  },
  {
   "cell_type": "code",
   "execution_count": 1,
   "id": "8ae0cc50",
   "metadata": {},
   "outputs": [],
   "source": [
    "import pandas as pd\n",
    "from sqlalchemy import create_engine, Column, Integer, String, Date, ForeignKey\n",
    "from sqlalchemy.orm import declarative_base, relationship, sessionmaker\n"
   ]
  },
  {
   "cell_type": "code",
   "execution_count": 2,
   "id": "e9197cb7",
   "metadata": {},
   "outputs": [],
   "source": [
    "Base = declarative_base()"
   ]
  },
  {
   "cell_type": "code",
   "execution_count": 3,
   "id": "ecc3939c",
   "metadata": {},
   "outputs": [],
   "source": [
    "class Book(Base):\n",
    "    \n",
    "    __tablename__ = \"books\"\n",
    "    \n",
    "    id = Column(Integer, primary_key = True)\n",
    "    title = Column(String, nullable=False)\n",
    "    author = Column(String, nullable=False)"
   ]
  },
  {
   "cell_type": "code",
   "execution_count": 4,
   "id": "80f919c5",
   "metadata": {},
   "outputs": [],
   "source": [
    "class Member(Base):\n",
    "    \n",
    "    __tablename__ = \"members\"\n",
    "    \n",
    "    id = Column(Integer, primary_key = True)\n",
    "    name = Column(String, nullable=False)"
   ]
  },
  {
   "cell_type": "code",
   "execution_count": 5,
   "id": "f4df550e",
   "metadata": {},
   "outputs": [],
   "source": [
    "class Borrow(Base):\n",
    "    \n",
    "    __tablename__ = \"borrows\"\n",
    "    \n",
    "    id = Column(Integer, primary_key = True)\n",
    "    \n",
    "    book_id = Column(Integer, ForeignKey(\"books.id\"))\n",
    "    member_id = Column(Integer, ForeignKey(\"members.id\"))\n",
    "    \n",
    "    borrow_date = Column(Date)\n",
    "    return_date = Column(Date)\n",
    "    \n",
    "    book = relationship('Book')\n",
    "    member = relationship('Member')\n"
   ]
  },
  {
   "cell_type": "code",
   "execution_count": 6,
   "id": "db329eca",
   "metadata": {},
   "outputs": [],
   "source": [
    "engine = create_engine(\"sqlite:///library.db\")"
   ]
  },
  {
   "cell_type": "code",
   "execution_count": 7,
   "id": "b62f5699",
   "metadata": {},
   "outputs": [],
   "source": [
    "Base.metadata.create_all(engine)"
   ]
  },
  {
   "cell_type": "code",
   "execution_count": 8,
   "id": "aa44eb3e",
   "metadata": {},
   "outputs": [],
   "source": [
    "Session = sessionmaker(bind = engine)"
   ]
  },
  {
   "cell_type": "code",
   "execution_count": 9,
   "id": "0690b408",
   "metadata": {},
   "outputs": [],
   "source": [
    "session = Session()"
   ]
  },
  {
   "cell_type": "markdown",
   "id": "3e3943b7",
   "metadata": {},
   "source": [
    "### Insert Sample Data"
   ]
  },
  {
   "cell_type": "code",
   "execution_count": 10,
   "id": "548a10b3",
   "metadata": {},
   "outputs": [],
   "source": [
    "from datetime import date"
   ]
  },
  {
   "cell_type": "code",
   "execution_count": 11,
   "id": "94b7bc11",
   "metadata": {},
   "outputs": [],
   "source": [
    "book1 = Book(title = 'Harry Potter', author = 'J.K. Rowling')\n",
    "book2 = Book(title = 'Harry Potter', author = 'J.K. Rowling')\n",
    "book3 = Book(title = 'Atomic Habits', author = 'James Clear')\n",
    "\n",
    "\n",
    "member1 = Member(name = 'Nathan')\n",
    "member2 = Member(name = 'Caslow')\n",
    "member3 = Member(name = 'Yuke')\n",
    "\n",
    "borrow1 = Borrow(book = book1, member = member1, borrow_date = date(2024, 9, 1))\n",
    "borrow2 = Borrow(book = book2, member = member2, borrow_date = date(2024, 9, 2))\n",
    "borrow3 = Borrow(book = book3, member = member3, borrow_date = date(2024, 9, 3))\n"
   ]
  },
  {
   "cell_type": "code",
   "execution_count": 12,
   "id": "9cdd7133",
   "metadata": {},
   "outputs": [],
   "source": [
    "session.add_all([book1, book2, book3, member1, member2, member3,borrow1, borrow2, borrow3])\n",
    "session.commit()"
   ]
  },
  {
   "cell_type": "code",
   "execution_count": null,
   "id": "f3a811fe",
   "metadata": {},
   "outputs": [],
   "source": []
  },
  {
   "cell_type": "code",
   "execution_count": null,
   "id": "af2813c2",
   "metadata": {},
   "outputs": [],
   "source": []
  },
  {
   "cell_type": "markdown",
   "id": "7f49338f",
   "metadata": {},
   "source": [
    "### Query Data"
   ]
  },
  {
   "cell_type": "code",
   "execution_count": 14,
   "id": "22e9fd4d",
   "metadata": {},
   "outputs": [
    {
     "name": "stdout",
     "output_type": "stream",
     "text": [
      "Harry Potter J.K. Rowling\n",
      "Harry Potter J.K. Rowling\n",
      "Atomic Habits James Clear\n"
     ]
    }
   ],
   "source": [
    "for book in session.query(Book).all():\n",
    "    print(book.title, book.author)"
   ]
  },
  {
   "cell_type": "code",
   "execution_count": 15,
   "id": "42967b68",
   "metadata": {},
   "outputs": [
    {
     "name": "stdout",
     "output_type": "stream",
     "text": [
      "Harry Potter J.K. Rowling\n",
      "Harry Potter J.K. Rowling\n"
     ]
    }
   ],
   "source": [
    "for book in session.query(Book).filter(Book.title == 'Harry Potter').all():\n",
    "    print(book.title, book.author)"
   ]
  },
  {
   "cell_type": "markdown",
   "id": "06731135",
   "metadata": {},
   "source": [
    "### Query all books borrowed by a specific member\n"
   ]
  },
  {
   "cell_type": "code",
   "execution_count": 17,
   "id": "b4f98542",
   "metadata": {},
   "outputs": [
    {
     "name": "stdout",
     "output_type": "stream",
     "text": [
      "Harry Potter\n"
     ]
    }
   ],
   "source": [
    "def query_books_by_member(member_name):\n",
    "    \n",
    "    member_id = session.query(Member).filter(Member.name == member_name).first().id\n",
    "    \n",
    "    if member_id:\n",
    "        \n",
    "        book_id = session.query(Borrow).filter(Borrow.member_id == member_id).first().book_id\n",
    "        \n",
    "        book_name = session.query(Book).filter(Book.id == book_id).first().title\n",
    "        \n",
    "        print(book_name)\n",
    "        \n",
    "query_books_by_member('Nathan')"
   ]
  },
  {
   "cell_type": "code",
   "execution_count": null,
   "id": "38041e55",
   "metadata": {},
   "outputs": [],
   "source": []
  },
  {
   "cell_type": "code",
   "execution_count": null,
   "id": "5e24582f",
   "metadata": {},
   "outputs": [],
   "source": []
  },
  {
   "cell_type": "markdown",
   "id": "fa4ce7df",
   "metadata": {},
   "source": [
    "### Return Books\n",
    "\n",
    "- Mark a borrowed book as returned by updating the `return_date`.\n",
    " "
   ]
  },
  {
   "cell_type": "code",
   "execution_count": 18,
   "id": "7842fda0",
   "metadata": {},
   "outputs": [],
   "source": [
    "def return_book(borrow_id, return_date):\n",
    "    \n",
    "    borrow = session.query(Borrow).filter(Borrow.id == borrow_id).first()\n",
    "    \n",
    "    if borrow:\n",
    "    \n",
    "        borrow.return_date = return_date\n",
    "        \n",
    "        print(f'{borrow_id} updated on {return_date}')"
   ]
  },
  {
   "cell_type": "code",
   "execution_count": 19,
   "id": "0e469f2c",
   "metadata": {},
   "outputs": [
    {
     "name": "stdout",
     "output_type": "stream",
     "text": [
      "1 updated on 2024-09-10\n"
     ]
    }
   ],
   "source": [
    "return_book(1, date(2024, 9, 10))"
   ]
  },
  {
   "cell_type": "code",
   "execution_count": 20,
   "id": "02ed58a7",
   "metadata": {},
   "outputs": [],
   "source": [
    "session.commit()"
   ]
  },
  {
   "cell_type": "markdown",
   "id": "9919cd1a",
   "metadata": {},
   "source": [
    "### Find all currently available books in the library"
   ]
  },
  {
   "cell_type": "code",
   "execution_count": 31,
   "id": "df24f5ba",
   "metadata": {},
   "outputs": [
    {
     "name": "stdout",
     "output_type": "stream",
     "text": [
      "Harry Potter\n"
     ]
    }
   ],
   "source": [
    "borrowed_book_ids = session.query(Borrow).filter(Borrow.return_date == None).all()\n",
    "\n",
    "borrowed_book_ids = [borrow.book_id for borrow in borrowed_book_ids]\n",
    "\n",
    "\n",
    "available_books = session.query(Book).filter(Book.id.notin_(borrowed_book_ids)).all()\n",
    "\n",
    "for book in available_books:\n",
    "    print(book.title)"
   ]
  },
  {
   "cell_type": "code",
   "execution_count": 24,
   "id": "13f67603",
   "metadata": {},
   "outputs": [],
   "source": [
    "query = \"\"\"SELECT title, author FROM books WHERE id not in (SELECT book_id FROM borrows WHERE return_date is NULL);\"\"\""
   ]
  },
  {
   "cell_type": "code",
   "execution_count": 25,
   "id": "2b6a5e38",
   "metadata": {},
   "outputs": [],
   "source": [
    "from sqlalchemy import text\n",
    "\n",
    "\n",
    "result = session.execute(text(query)).fetchall()"
   ]
  },
  {
   "cell_type": "code",
   "execution_count": 27,
   "id": "3b217d11",
   "metadata": {},
   "outputs": [
    {
     "name": "stdout",
     "output_type": "stream",
     "text": [
      "[('Harry Potter', 'J.K. Rowling')]\n"
     ]
    }
   ],
   "source": [
    "print([res for res in result])"
   ]
  },
  {
   "cell_type": "code",
   "execution_count": null,
   "id": "0739cf19",
   "metadata": {},
   "outputs": [],
   "source": []
  }
 ],
 "metadata": {
  "kernelspec": {
   "display_name": "Python 3 (ipykernel)",
   "language": "python",
   "name": "python3"
  },
  "language_info": {
   "codemirror_mode": {
    "name": "ipython",
    "version": 3
   },
   "file_extension": ".py",
   "mimetype": "text/x-python",
   "name": "python",
   "nbconvert_exporter": "python",
   "pygments_lexer": "ipython3",
   "version": "3.11.5"
  }
 },
 "nbformat": 4,
 "nbformat_minor": 5
}
